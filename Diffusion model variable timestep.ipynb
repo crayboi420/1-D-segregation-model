{
 "cells": [
  {
   "cell_type": "code",
   "execution_count": 34,
   "metadata": {},
   "outputs": [],
   "source": [
    "import math\n",
    "import numpy as np\n",
    "import matplotlib.pyplot as plt\n",
    "import scipy\n",
    "from matplotlib.animation import FuncAnimation\n",
    "import matplotlib\n",
    "import scipy.sparse as sps\n",
    "from tqdm import tqdm\n",
    "from ipywidgets import interact, interactive, fixed, interact_manual\n",
    "import ipywidgets as widgets\n",
    "# matplotlib.rcParams['figure.figsize'] = [8, 7]\n",
    "from IPython.display import clear_output"
   ]
  },
  {
   "cell_type": "code",
   "execution_count": 35,
   "metadata": {},
   "outputs": [],
   "source": [
    "import os\n",
    "os.chdir(r'/Volumes/GoogleDrive/My Drive/Classroom/DTU/Special Course/Report/figures/Diff')\n"
   ]
  },
  {
   "cell_type": "markdown",
   "metadata": {},
   "source": [
    "## Initializing the Mesh"
   ]
  },
  {
   "cell_type": "code",
   "execution_count": 36,
   "metadata": {},
   "outputs": [],
   "source": [
    "domain_length = 1\n",
    "meshsize = 100\n",
    "\n",
    "dx = domain_length/meshsize*np.ones((meshsize))\n",
    "\n",
    "x = np.ones((meshsize))\n",
    "x[0] = dx[0]/2\n",
    "for i in range(1,meshsize):\n",
    "    x[i] = x[i-1] + dx[i-1]/2+dx[i]/2"
   ]
  },
  {
   "cell_type": "markdown",
   "metadata": {},
   "source": [
    "## Entering phase diagram properties"
   ]
  },
  {
   "cell_type": "code",
   "execution_count": 37,
   "metadata": {},
   "outputs": [],
   "source": [
    "c0 = 2.1\n",
    "\n",
    "ceut = 4.2\n",
    "calpha = 2.1\n",
    "\n",
    "Tf = 1537\n",
    "Teut = 1153\n",
    "\n",
    "Tliq = (Teut-Tf)/ceut*c0 + Tf\n",
    "Tsol = (Teut-Tf)/calpha*c0+Tf\n",
    "\n",
    "kpar = calpha/ceut\n",
    "T_init_cast = Tliq\n",
    "\n",
    "c = c0*np.ones((meshsize))\n",
    "cinit = c.copy()\n",
    "\n",
    "def cl(T, Tf=Tf, ceut=ceut, Teut=Teut):\n",
    "    return (T-Tf)*ceut/(Teut-Tf)\n",
    "\n",
    "def TfromCl(cl, Tf=Tf, ceut=ceut, Teut=Teut):\n",
    "    return cl/ceut*(Teut-Tf)+Tf\n",
    "\n",
    "total_mass = domain_length*c0"
   ]
  },
  {
   "cell_type": "markdown",
   "metadata": {},
   "source": [
    "## Simulating temperature diffusion"
   ]
  },
  {
   "cell_type": "code",
   "execution_count": 38,
   "metadata": {},
   "outputs": [
    {
     "name": "stdout",
     "output_type": "stream",
     "text": [
      "0.096\n"
     ]
    }
   ],
   "source": [
    "final_t = 2000\n",
    "\n",
    "print((Tliq-Tsol)/final_t)\n",
    "#Defining temperature as a function of time. Linear, no diffusion\n",
    "\n",
    "def temp(time,Tsol=Tsol,Tliq=Tliq,tf=final_t):\n",
    "    return Tliq + (Tsol-Tliq)*time/tf\n",
    "\n",
    "def timeFromTemp(temp, Tsol=Tsol, Tliq=Tliq, tf=final_t):\n",
    "    return (temp-Tliq)/(Tsol-Tliq)*tf"
   ]
  },
  {
   "cell_type": "markdown",
   "metadata": {},
   "source": [
    "## diffusion_step"
   ]
  },
  {
   "cell_type": "code",
   "execution_count": 39,
   "metadata": {},
   "outputs": [],
   "source": [
    "def diffusion_step(dx,c,dt,D,b1,b2,theta=1):\n",
    "    \n",
    "    meshsize = len(dx)\n",
    "    r = np.zeros(meshsize)\n",
    "\n",
    "    r[0] , r[meshsize-1] = 1/b1,1/b2\n",
    "    r[1:meshsize-1] = dx[1:meshsize-1]/(2*D)\n",
    "    \n",
    "    hcon = np.zeros(meshsize)\n",
    "    hcap = np.zeros(meshsize)\n",
    "\n",
    "    for i in range(1, meshsize):\n",
    "        hcon[i] = 1/(r[i-1]+r[i])\n",
    "\n",
    "    for i in range(1, meshsize-1):\n",
    "        hcap[i] = dx[i]/dt\n",
    "\n",
    "    Att= calcAtt(hcon,hcap,theta=theta)\n",
    "    At= calcAt(hcon,hcap,theta=theta)\n",
    "\n",
    "    return np.linalg.inv(Att)@At@c\n",
    "\n",
    "def calcAtt(hcon, hcap,theta):\n",
    "    size = len(hcap)\n",
    "    Att = np.zeros((size, size))\n",
    "    for i in range(0, size):\n",
    "        # Left boundary condition constant concentration\n",
    "        if i == 0:\n",
    "            Att[i][i] = 1\n",
    "            continue\n",
    "        # Right boundary condition constant concentration\n",
    "        if i == size-1:\n",
    "            Att[i][i] = 1\n",
    "            continue\n",
    "        Att[i][i-1] = -theta*hcon[i]\n",
    "        Att[i][i] = hcap[i] + theta*hcon[i] + hcon[i+1]*theta\n",
    "        Att[i][i+1] = -theta*hcon[i+1]\n",
    "    return Att\n",
    "    \n",
    "def calcAt(hcon, hcap,theta):\n",
    "    size = len(hcap)\n",
    "    At = np.zeros((size, size))\n",
    "    for i in range(0, size):\n",
    "        #Left boundary condition\n",
    "        if i == 0:\n",
    "            At[i][i] = 1\n",
    "            continue\n",
    "        #Right boundary condition\n",
    "        if i == size-1:\n",
    "            At[i][i] = 1\n",
    "            continue\n",
    "        At[i][i-1] = (1-theta)*hcon[i]\n",
    "        At[i][i] = hcap[i]-(1-theta)*hcon[i]-(1-theta)*hcon[i+1]\n",
    "        At[i][i+1] = (1-theta)*hcon[i+1]\n",
    "    return At"
   ]
  },
  {
   "cell_type": "markdown",
   "metadata": {},
   "source": [
    "## Simulations"
   ]
  },
  {
   "cell_type": "code",
   "execution_count": 40,
   "metadata": {},
   "outputs": [],
   "source": [
    "def simulateDiffTimestep(dx, c, steps,Dsol,Dliq,fs_final=1, k=kpar,rateofchange=200,tol=1E-6):\n",
    "    \n",
    "    length = np.sum(dx)\n",
    "    meshsize = len(dx)\n",
    "    c0 = np.average(c)\n",
    "    c_initial = c.copy()\n",
    "\n",
    "    concentrations = np.zeros((steps))\n",
    "    t = 0\n",
    "\n",
    "    #Concentrations inside stepped nodes\n",
    "\n",
    "    profiles = []\n",
    "\n",
    "    #Total mass\n",
    "    total_mass = length*c0\n",
    "\n",
    "    #Guess initial dt\n",
    "    dt = 1\n",
    "\n",
    "    for inter in tqdm(range(round(fs_final*meshsize))):\n",
    "        \n",
    "        concentrations = c[inter]*np.ones((steps))\n",
    "\n",
    "        #Declaring matrices\n",
    "        new_c = np.zeros((meshsize))\n",
    "        new_concentrations = np.zeros((steps))\n",
    "        \n",
    "        # Iterating over nodes\n",
    "        for step in range(steps):\n",
    "            \n",
    "            T_old = temp(t)\n",
    "\n",
    "            #Assemble arrays\n",
    "            \n",
    "            solid_steps_dx = dx[inter]/steps*np.ones((step+1))\n",
    "            solid_steps_c = concentrations[:step+1]\n",
    "\n",
    "            liq_steps_dx = dx[inter]/steps*np.ones((steps-(step+1)))\n",
    "            liq_steps_c = concentrations[step+1:]\n",
    "            \n",
    "            solid_dx = np.concatenate(([dx[0]], dx[0:inter], solid_steps_dx, [dx[inter]/steps]))\n",
    "            liq_dx = np.concatenate(([dx[inter]/steps], liq_steps_dx, dx[inter+1:], [dx[-1]]))\n",
    "            \n",
    "            #### Iterative method\n",
    "            change = 1\n",
    "\n",
    "            fs = (inter + step/steps)/meshsize\n",
    "            dfs = 1/(steps*meshsize)\n",
    "\n",
    "            cl_old = cl(T_old)\n",
    "            cl_new = cl_old+ dfs/(1-fs)*cl_old*(1-k)\n",
    "            T = TfromCl(cl_new)\n",
    "\n",
    "            # dt = timeFromTemp(T)-t\n",
    "\n",
    "            while abs(change)>tol:\n",
    "                \n",
    "                ######################################################\n",
    "                #Solve Temperature\n",
    "\n",
    "                T=temp(t+dt)\n",
    "\n",
    "                ######################################################\n",
    "                #Solve diffusion\n",
    "\n",
    "                solid_c = np.concatenate(([c[0]], c[0:inter], solid_steps_c, [k*cl(T)]))\n",
    "                solid_c[-2] = k*cl(T)\n",
    "                liq_c = np.concatenate(([cl(T)], liq_steps_c, c[inter+1:], [c[-1]]))\n",
    "\n",
    "                new_solid = diffusion_step(solid_dx,solid_c,dt,Dsol,1E-24,1E30)[1:-1] #Removing dead nodes\n",
    "\n",
    "                new_liquid = diffusion_step(liq_dx,liq_c,dt,Dliq,1E24,1E-24)[1:-1] #Removing dead nodes\n",
    "                \n",
    "                # #Ignoring liquid diffusion\n",
    "                # new_liquid = cl(T)*np.ones((len(liq_c)))[1:-1]\n",
    "\n",
    "                ######################################################\n",
    "                #Assemble final concentration\n",
    "                \n",
    "                new_c[0:inter] = new_solid[0:inter]\n",
    "                new_c[inter+1:] = new_liquid[(steps-(step+1)):]\n",
    "\n",
    "                new_concentrations[0:step+1] = new_solid[inter:]\n",
    "                new_concentrations[step+1:] = new_liquid[0:(steps - (step+1))]\n",
    "                \n",
    "                new_c[inter] = np.average(new_concentrations)\n",
    "\n",
    "                ######################################################\n",
    "                # Finding change\n",
    "                \n",
    "                change = np.sum(dx*(new_c))-np.sum(dx*c_initial)\n",
    "\n",
    "                dt = dt*(1-change/total_mass*rateofchange)\n",
    "                \n",
    "            t= t+dt\n",
    "            \n",
    "            ## Updating the values using new interface\n",
    "\n",
    "            mass_change = np.sum(dx*(new_c))-np.sum(dx*c_initial)\n",
    "            concentrations = new_concentrations.copy()\n",
    "            c = new_c.copy()\n",
    "\n",
    "            profiles_dx = np.concatenate((solid_dx[1:-1],liq_dx[1:-1]))\n",
    "            profiles_x = np.ones((len(profiles_dx)))\n",
    "            profiles_x[0] = profiles_dx[0]/2\n",
    "            for i in range(1,len(profiles_dx)):\n",
    "                profiles_x[i] = profiles_x[i-1] + profiles_dx[i-1]/2+profiles_dx[i]/2\n",
    "                \n",
    "            profiles_c = np.concatenate((new_solid,new_liquid))\n",
    "            \n",
    "            profiles.append(((profiles_x.copy(),profiles_c.copy()), inter+step/steps,mass_change,t,concentrations.copy()))\n",
    "\n",
    "    return profiles\n"
   ]
  },
  {
   "cell_type": "code",
   "execution_count": 41,
   "metadata": {},
   "outputs": [
    {
     "name": "stderr",
     "output_type": "stream",
     "text": [
      "100%|██████████| 80/80 [00:19<00:00,  4.17it/s]\n"
     ]
    }
   ],
   "source": [
    "Dsol = 1E-10\n",
    "Dliq = 1E5\n",
    "\n",
    "steps = 5\n",
    "Simulation_result = simulateDiffTimestep(dx.copy(),c.copy(),steps,Dsol,Dliq,0.8)"
   ]
  },
  {
   "cell_type": "code",
   "execution_count": 42,
   "metadata": {},
   "outputs": [
    {
     "name": "stdout",
     "output_type": "stream",
     "text": [
      "400\n"
     ]
    }
   ],
   "source": [
    "profiles = [Simulation_result[i][0] for i in range(len(Simulation_result))]\n",
    "interface = [Simulation_result[i][1] for i in range(len(Simulation_result))]\n",
    "mass_change = [Simulation_result[i][2] for i in range(len(Simulation_result))]\n",
    "time = [Simulation_result[i][3] for i in range(len(Simulation_result))]\n",
    "concentrations = [Simulation_result[i][4]for i in range(len(Simulation_result))]\n",
    "dt = [time[i+1]-time[i] for i in range(len(time)-1)]\n",
    "\n",
    "print(len(profiles))"
   ]
  },
  {
   "cell_type": "code",
   "execution_count": 43,
   "metadata": {},
   "outputs": [
    {
     "name": "stdout",
     "output_type": "stream",
     "text": [
      "Tf = 2467.6666336342078 s\n"
     ]
    },
    {
     "data": {
      "text/plain": [
       "Text(0.5, 1.0, 'Time')"
      ]
     },
     "execution_count": 43,
     "metadata": {},
     "output_type": "execute_result"
    },
    {
     "data": {
      "image/png": "[encoded data removed]",
      "text/plain": [
       "<Figure size 432x288 with 1 Axes>"
      ]
     },
     "metadata": {
      "needs_background": "light"
     },
     "output_type": "display_data"
    }
   ],
   "source": [
    "print(\"Tf = \"+str(time[-1])+\" s\")\n",
    "plt.plot(time)\n",
    "plt.title('Time')"
   ]
  },
  {
   "cell_type": "code",
   "execution_count": 44,
   "metadata": {},
   "outputs": [
    {
     "name": "stdout",
     "output_type": "stream",
     "text": [
      "2.0080190383151053\n"
     ]
    },
    {
     "data": {
      "text/plain": [
       "Text(0.5, 1.0, 'dt')"
      ]
     },
     "execution_count": 44,
     "metadata": {},
     "output_type": "execute_result"
    },
    {
     "data": {
      "image/png": "[encoded data removed]",
      "text/plain": [
       "<Figure size 432x288 with 1 Axes>"
      ]
     },
     "metadata": {
      "needs_background": "light"
     },
     "output_type": "display_data"
    }
   ],
   "source": [
    "print(dt[0])\n",
    "plt.plot(dt)\n",
    "plt.title('dt')"
   ]
  },
  {
   "cell_type": "code",
   "execution_count": 45,
   "metadata": {},
   "outputs": [
    {
     "data": {
      "application/vnd.jupyter.widget-view+json": {
       "model_id": "0c2950c0291944649e7e8b9e18a680d6",
       "version_major": 2,
       "version_minor": 0
      },
      "text/plain": [
       "interactive(children=(IntSlider(value=199, description='index', max=399), Output()), _dom_classes=('widget-int…"
      ]
     },
     "metadata": {},
     "output_type": "display_data"
    }
   ],
   "source": [
    "fs = 1\n",
    "index_f = int(fs*len(profiles))\n",
    "# index = 12\n",
    "@interact(index=(0,index_f-1))\n",
    "def plot(index):\n",
    "    plt.clf()\n",
    "    plt.plot(profiles[index][0],profiles[index][1])\n",
    "    plt.title('profile')\n",
    "    \n",
    "    # plt.ylim(np.min(profiles[0][1]),np.max(profiles[-1][1]))\n",
    "    plt.show()"
   ]
  },
  {
   "cell_type": "code",
   "execution_count": 46,
   "metadata": {},
   "outputs": [
    {
     "data": {
      "image/png": "[encoded data removed]",
      "text/plain": [
       "<Figure size 432x288 with 1 Axes>"
      ]
     },
     "metadata": {
      "needs_background": "light"
     },
     "output_type": "display_data"
    }
   ],
   "source": [
    "fs = 0.5\n",
    "index = int(fs*len(profiles))\n",
    "plt.plot(profiles[index][0],profiles[index][1])\n",
    "plt.xlabel('Position')\n",
    "plt.ylabel('Concentration')\n",
    "plt.savefig('Scheil prof.png',bbox_inches='tight',dpi = 400)"
   ]
  },
  {
   "cell_type": "code",
   "execution_count": 47,
   "metadata": {},
   "outputs": [
    {
     "data": {
      "text/plain": [
       "Text(0.5, 1.0, 'dm vs t')"
      ]
     },
     "execution_count": 47,
     "metadata": {},
     "output_type": "execute_result"
    },
    {
     "data": {
      "image/png": "[encoded data removed]",
      "text/plain": [
       "<Figure size 432x288 with 1 Axes>"
      ]
     },
     "metadata": {
      "needs_background": "light"
     },
     "output_type": "display_data"
    }
   ],
   "source": [
    "dm = [mass_change[i+1]-mass_change[i] for i in range(len(mass_change)-1)]\n",
    "plt.plot(dm[:30])\n",
    "plt.title('dm vs t')"
   ]
  },
  {
   "cell_type": "code",
   "execution_count": 48,
   "metadata": {},
   "outputs": [
    {
     "name": "stdout",
     "output_type": "stream",
     "text": [
      "-6.41629474884553e-07\n"
     ]
    },
    {
     "data": {
      "image/png": "[encoded data removed]",
      "text/plain": [
       "<Figure size 432x288 with 1 Axes>"
      ]
     },
     "metadata": {
      "needs_background": "light"
     },
     "output_type": "display_data"
    }
   ],
   "source": [
    "plt.plot(time,np.array(mass_change)/total_mass)\n",
    "print(mass_change[-1])\n",
    "# plt.title('Mass Change vs time')\n",
    "plt.xlabel('Iterations')\n",
    "plt.ylabel('Relative mass change')\n",
    "plt.savefig('Scheil Loss.png',bbox_inches = 'tight',dpi=400)"
   ]
  },
  {
   "cell_type": "code",
   "execution_count": 49,
   "metadata": {},
   "outputs": [
    {
     "data": {
      "text/plain": [
       "Text(0.5, 1.0, 'Interface movement')"
      ]
     },
     "execution_count": 49,
     "metadata": {},
     "output_type": "execute_result"
    },
    {
     "data": {
      "image/png": "[encoded data removed]",
      "text/plain": [
       "<Figure size 432x288 with 1 Axes>"
      ]
     },
     "metadata": {
      "needs_background": "light"
     },
     "output_type": "display_data"
    }
   ],
   "source": [
    "plt.plot(time,interface)\n",
    "plt.title('Interface movement')"
   ]
  }
 ],
 "metadata": {
  "interpreter": {
   "hash": "aee8b7b246df8f9039afb4144a1f6fd8d2ca17a180786b69acc140d282b71a49"
  },
  "kernelspec": {
   "display_name": "Python 3.9.1 64-bit",
   "language": "python",
   "name": "python3"
  },
  "language_info": {
   "codemirror_mode": {
    "name": "ipython",
    "version": 3
   },
   "file_extension": ".py",
   "mimetype": "text/x-python",
   "name": "python",
   "nbconvert_exporter": "python",
   "pygments_lexer": "ipython3",
   "version": "3.9.1"
  },
  "orig_nbformat": 4
 },
 "nbformat": 4,
 "nbformat_minor": 2
}
