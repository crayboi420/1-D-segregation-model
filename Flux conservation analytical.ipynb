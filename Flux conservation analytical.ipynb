{
 "cells": [
  {
   "cell_type": "code",
   "execution_count": 132,
   "metadata": {},
   "outputs": [],
   "source": [
    "import math\n",
    "import numpy as np\n",
    "import matplotlib.pyplot as plt\n",
    "import scipy\n",
    "from matplotlib.animation import FuncAnimation\n",
    "import matplotlib\n",
    "import scipy.sparse as sps\n",
    "from tqdm import tqdm\n",
    "from ipywidgets import interact, interactive, fixed, interact_manual\n",
    "import ipywidgets as widgets\n",
    "# matplotlib.rcParams['figure.figsize'] = [8, 7]\n",
    "from IPython.display import clear_output"
   ]
  },
  {
   "cell_type": "markdown",
   "metadata": {},
   "source": [
    "## Initializing the Mesh"
   ]
  },
  {
   "cell_type": "code",
   "execution_count": 133,
   "metadata": {},
   "outputs": [],
   "source": [
    "domain_length = 1\n",
    "meshsize = 200\n",
    "\n",
    "dx = domain_length/meshsize*np.ones((meshsize))\n",
    "\n",
    "x = np.ones((meshsize))\n",
    "x[0] = dx[0]/2\n",
    "for i in range(1,meshsize):\n",
    "    x[i] = x[i-1] + dx[i-1]/2+dx[i]/2"
   ]
  },
  {
   "cell_type": "markdown",
   "metadata": {},
   "source": [
    "## Entering phase diagram properties"
   ]
  },
  {
   "cell_type": "code",
   "execution_count": 134,
   "metadata": {},
   "outputs": [],
   "source": [
    "c0 = 2.1\n",
    "\n",
    "ceut = 4.2\n",
    "calpha = 2.1\n",
    "\n",
    "Tf = 1537\n",
    "Teut = 1153\n",
    "\n",
    "Tliq = (Teut-Tf)/ceut*c0 + Tf\n",
    "Tsol = (Teut-Tf)/calpha*c0+Tf\n",
    "\n",
    "kpar = calpha/ceut\n",
    "T_init_cast = Tliq\n",
    "\n",
    "c = c0*np.ones((meshsize))\n",
    "cinit = c.copy()\n",
    "\n",
    "def cl(T, Tf=Tf, ceut=ceut, Teut=Teut):\n",
    "    return (T-Tf)*ceut/(Teut-Tf)\n",
    "\n",
    "def TfromCl(cl, Tf=Tf, ceut=ceut, Teut=Teut):\n",
    "    return cl/ceut*(Teut-Tf)+Tf\n"
   ]
  },
  {
   "cell_type": "code",
   "execution_count": 135,
   "metadata": {},
   "outputs": [],
   "source": [
    "final_t = 2000\n",
    "\n",
    "#Defining temperature as a function of time. Linear, no diffusion\n",
    "\n",
    "def temp(time,Tsol=Tsol,Tliq=Tliq,tf=final_t):\n",
    "    return Tliq + (Tsol-Tliq)*time/tf\n",
    "\n",
    "def timeFromTemp(temp, Tsol=Tsol, Tliq=Tliq, tf=final_t):\n",
    "    return (temp-Tliq)/(Tsol-Tliq)*tf"
   ]
  },
  {
   "cell_type": "markdown",
   "metadata": {},
   "source": [
    "## Diffusion"
   ]
  },
  {
   "cell_type": "code",
   "execution_count": 136,
   "metadata": {},
   "outputs": [],
   "source": [
    "def diffusion_step(dx,c,dt,D,b1,b2,theta=1):\n",
    "    \n",
    "    meshsize = len(dx)\n",
    "    r = np.zeros(meshsize)\n",
    "\n",
    "    r[0] , r[meshsize-1] = 1/b1,1/b2\n",
    "    r[1:meshsize-1] = dx[1:meshsize-1]/(2*D)\n",
    "    \n",
    "    hcon = np.zeros(meshsize)\n",
    "    hcap = np.zeros(meshsize)\n",
    "\n",
    "    for i in range(1, meshsize):\n",
    "        hcon[i] = 1/(r[i-1]+r[i])\n",
    "\n",
    "    for i in range(1, meshsize-1):\n",
    "        hcap[i] = dx[i]/dt\n",
    "\n",
    "    Att= calcAtt(hcon,hcap,theta=theta)\n",
    "    At= calcAt(hcon,hcap,theta=theta)\n",
    "\n",
    "    return np.linalg.inv(Att)@At@c\n",
    "\n",
    "def calcAtt(hcon, hcap,theta):\n",
    "    size = len(hcap)\n",
    "    Att = np.zeros((size, size))\n",
    "    for i in range(0, size):\n",
    "        # Left boundary condition constant concentration\n",
    "        if i == 0:\n",
    "            Att[i][i] = 1\n",
    "            continue\n",
    "        # Right boundary condition constant concentration\n",
    "        if i == size-1:\n",
    "            Att[i][i] = 1\n",
    "            continue\n",
    "        Att[i][i-1] = -theta*hcon[i]\n",
    "        Att[i][i] = hcap[i] + theta*hcon[i] + hcon[i+1]*theta\n",
    "        Att[i][i+1] = -theta*hcon[i+1]\n",
    "    return Att\n",
    "    \n",
    "def calcAt(hcon, hcap,theta):\n",
    "    size = len(hcap)\n",
    "    At = np.zeros((size, size))\n",
    "    for i in range(0, size):\n",
    "        #Left boundary condition\n",
    "        if i == 0:\n",
    "            At[i][i] = 1\n",
    "            continue\n",
    "        #Right boundary condition\n",
    "        if i == size-1:\n",
    "            At[i][i] = 1\n",
    "            continue\n",
    "        At[i][i-1] = (1-theta)*hcon[i]\n",
    "        At[i][i] = hcap[i]-(1-theta)*hcon[i]-(1-theta)*hcon[i+1]\n",
    "        At[i][i+1] = (1-theta)*hcon[i+1]\n",
    "    return At"
   ]
  },
  {
   "cell_type": "code",
   "execution_count": 137,
   "metadata": {},
   "outputs": [],
   "source": [
    "def simulateScheilTimestep(dx, c, steps,Dsol,Dliq,fs_final=1, tf=final_t, k=kpar):\n",
    "    \n",
    "    length = np.sum(dx)\n",
    "    meshsize = len(dx)\n",
    "    c0 = np.average(c)\n",
    "    c_initial = c.copy()\n",
    "    t = 0\n",
    "\n",
    "    #Concentrations inside stepped nodes\n",
    "\n",
    "    profiles = []\n",
    "\n",
    "    #Total mass\n",
    "    total_mass = length*c0\n",
    "\n",
    "    for inter in tqdm(range(0,round(fs_final*meshsize))):\n",
    "        \n",
    "        concentrations = c[inter]*np.ones((steps))\n",
    "        \n",
    "        # Iterating over nodes\n",
    "        for step in range(steps):\n",
    "\n",
    "            T_old = temp(t)\n",
    "            \n",
    "            solid_dx = np.concatenate(([dx[0]], dx[0:inter], [dx[inter]]))\n",
    "            liq_dx = np.concatenate(([dx[inter]], dx[inter+1:], [dx[-1]]))\n",
    "\n",
    "            #### Analytical method\n",
    "            #Find dt\n",
    "            fs = (inter + step/steps)/meshsize\n",
    "            dfs = 1/(steps*meshsize)\n",
    "\n",
    "            cl_old = cl(T_old)\n",
    "            cl_new = cl_old+ dfs/(1-fs)*cl_old*(1-k)\n",
    "            # cl_new = cl_old+ dfs/(1+(k-1)*fs)*cl_old*(1-k)\n",
    "            T = TfromCl(cl_new)\n",
    "\n",
    "            dt = timeFromTemp(T)-t\n",
    "            t= t+dt\n",
    "            \n",
    "            ## Updating the values using new interface\n",
    "\n",
    "            # Diffusion in solid and liquid\n",
    "            solid_c = np.concatenate(([c[0]], c[0:inter], [k*cl(T)]))\n",
    "            liq_c = np.concatenate(([cl(T)], c[inter+1:], [c[-1]]))\n",
    "            \n",
    "            sol_flux = 0\n",
    "\n",
    "            new_c = np.zeros((meshsize))\n",
    "            new_concentrations = np.zeros((steps))\n",
    "\n",
    "            #Scheil model\n",
    "            new_solid = solid_c[1:-1]\n",
    "            \n",
    "            new_c[0:inter] = new_solid[0:inter]\n",
    "            new_concentrations[:step] = concentrations[:step]\n",
    "            new_concentrations[step] = k*cl(T)\n",
    "            new_concentrations[step+1:] = cl(T)\n",
    "            new_c[inter] = np.average(new_concentrations)\n",
    "\n",
    "            #Solve liquid flux using sol_flux\n",
    "            interface_flux = dx[inter]*(new_c[inter]-c[inter])\n",
    "            liq_flux = -(interface_flux+sol_flux)\n",
    "            beta_liq = 1/((cl(T)-c[inter+1])/liq_flux-dx[inter+1]/(2*Dliq))\n",
    "\n",
    "            new_liquid = diffusion_step(liq_dx, liq_c, dt, Dliq, beta_liq, 1E-24)[1:-1]\n",
    "\n",
    "            new_c[inter+1:] = new_liquid[:]\n",
    "            \n",
    "            c=new_c.copy()\n",
    "            concentrations = new_concentrations.copy()\n",
    "            \n",
    "            mass_change = (np.sum(dx*c) -np.sum(dx*c_initial))\n",
    "\n",
    "            profiles_dx = np.concatenate((solid_dx[1:-1],liq_dx[1:-1]))\n",
    "            profiles_x = np.ones((len(profiles_dx)))\n",
    "            profiles_x[0] = profiles_dx[0]/2\n",
    "            for i in range(1,len(profiles_dx)):\n",
    "                profiles_x[i] = profiles_x[i-1] + profiles_dx[i-1]/2+profiles_dx[i]/2\n",
    "                \n",
    "            profiles_c = np.concatenate((new_solid,new_liquid))\n",
    "            \n",
    "            profiles.append(((profiles_x.copy(),profiles_c.copy()), inter+step/steps,mass_change,t,concentrations.copy()))\n",
    "        \n",
    "    return profiles\n"
   ]
  },
  {
   "cell_type": "code",
   "execution_count": 138,
   "metadata": {},
   "outputs": [],
   "source": [
    "def simulateLeverTimestep(dx, c, steps,fs_final=1, tf=final_t, k=kpar):\n",
    "    \n",
    "    length = np.sum(dx)\n",
    "    meshsize = len(dx)\n",
    "    c0 = np.average(c)\n",
    "    c_initial = c.copy()\n",
    "    t = 0\n",
    "    #Interface node\n",
    "    inter = 0\n",
    "    # Step inside interface node\n",
    "    step = 0\n",
    "    #Concentrations inside stepped nodes\n",
    "\n",
    "    profiles = [(c.copy(), 0,0,t)]\n",
    "\n",
    "    # #Total mass\n",
    "    # total_mass = length*c0\n",
    "\n",
    "    # #Guess initial dt\n",
    "    # dt = 0.3\n",
    "\n",
    "    for inter in tqdm(range(0,round(fs_final*meshsize))):\n",
    "        \n",
    "        concentrations = c[inter]*np.ones((steps))\n",
    "\n",
    "        # #Finding out the solid part\n",
    "        # isSolid = np.zeros((len(x)))\n",
    "        # isLiquid = np.zeros((len(x)))\n",
    "        # isSolid[0:inter] = dx[0:inter]\n",
    "        # isLiquid[inter+1:] = dx[inter+1:]\n",
    "        \n",
    "        # Iterating over nodes\n",
    "        for step in range(0,steps):\n",
    "\n",
    "            T_old = temp(t)\n",
    "\n",
    "            # change = 1\n",
    "\n",
    "            # while abs(change)>1E-5:\n",
    "                \n",
    "            #     T = temp(t+dt)\n",
    "\n",
    "            #     # Mass Change\n",
    "            #     solid_change = np.sum(np.dot(isSolid, c)) - np.sum(np.dot(isSolid, c))\n",
    "            #     liquid_change = np.sum(np.dot(isLiquid, cl(T))) - np.sum(np.dot(isLiquid, c))\n",
    "                \n",
    "            #     # Interface mass change\n",
    "            #     el_len = dx[inter]/steps\n",
    "            #     inter_change = el_len*(k*cl(T) - cl(T_old)) + el_len*(steps-(step+1))*(cl(T)-cl(T_old))\n",
    "                \n",
    "            #     #Remaining mass\n",
    "            #     change = inter_change+solid_change+liquid_change\n",
    "                \n",
    "            #     dt = dt*(1-change/total_mass/10)\n",
    "\n",
    "            #Find dt\n",
    "            fs = (inter + step/steps)/meshsize\n",
    "            dfs = 1/(steps*meshsize)\n",
    "\n",
    "            cl_old = cl(T_old)\n",
    "            cl_new = cl_old+ dfs/(1+(k-1)*fs)*cl_old*(1-k)\n",
    "            T = TfromCl(cl_new)\n",
    "\n",
    "            t = timeFromTemp(T)\n",
    "            \n",
    "            ## Updating the values using new interface\n",
    "\n",
    "            # Diffusion in solid and liquid\n",
    "            # Interface\n",
    "            concentrations[:step+1] = k*cl(T)\n",
    "            concentrations[step+1:] = cl(T)\n",
    "            # Solid diffusion\n",
    "            c[:inter] = k*cl(T)\n",
    "            # Liquid Diffusion\n",
    "            c[inter+1:] = cl(T)\n",
    "\n",
    "            c[inter] = np.average(concentrations)\n",
    "            mass_change = (np.sum(dx*c) -np.sum(dx*c_initial))\n",
    "\n",
    "            profiles.append((c.copy(), inter,mass_change,t))\n",
    "        \n",
    "        \n",
    "    return profiles"
   ]
  },
  {
   "cell_type": "code",
   "execution_count": 139,
   "metadata": {},
   "outputs": [
    {
     "name": "stderr",
     "output_type": "stream",
     "text": [
      "100%|██████████| 160/160 [00:14<00:00, 10.69it/s]\n"
     ]
    }
   ],
   "source": [
    "steps = 15\n",
    "Dsol = 1E-4\n",
    "Dliq = 1E5\n",
    "Simulation_result = simulateScheilTimestep(dx.copy(),c.copy(),steps,Dsol,Dliq,fs_final=0.8)"
   ]
  },
  {
   "cell_type": "code",
   "execution_count": 140,
   "metadata": {},
   "outputs": [
    {
     "name": "stdout",
     "output_type": "stream",
     "text": [
      "2400\n"
     ]
    }
   ],
   "source": [
    "profiles = [Simulation_result[i][0] for i in range(len(Simulation_result))]\n",
    "interface = [Simulation_result[i][1] for i in range(len(Simulation_result))]\n",
    "mass_change = [Simulation_result[i][2] for i in range(len(Simulation_result))]\n",
    "time = [Simulation_result[i][3] for i in range(len(Simulation_result))]\n",
    "concentrations = [Simulation_result[i][4]for i in range(len(Simulation_result))]\n",
    "dt = [time[i+1]-time[i] for i in range(len(time)-1)]\n",
    "\n",
    "print(len(profiles))"
   ]
  },
  {
   "cell_type": "code",
   "execution_count": 141,
   "metadata": {},
   "outputs": [
    {
     "name": "stdout",
     "output_type": "stream",
     "text": [
      "Tf = 2469.9019349511887 s\n"
     ]
    },
    {
     "data": {
      "text/plain": [
       "Text(0.5, 1.0, 'Time')"
      ]
     },
     "execution_count": 141,
     "metadata": {},
     "output_type": "execute_result"
    },
    {
     "data": {
      "image/png": "[encoded data removed]",
      "text/plain": [
       "<Figure size 432x288 with 1 Axes>"
      ]
     },
     "metadata": {
      "needs_background": "light"
     },
     "output_type": "display_data"
    }
   ],
   "source": [
    "print(\"Tf = \"+str(time[-1])+\" s\")\n",
    "plt.plot(time)\n",
    "plt.title('Time')"
   ]
  },
  {
   "cell_type": "code",
   "execution_count": 142,
   "metadata": {},
   "outputs": [
    {
     "name": "stdout",
     "output_type": "stream",
     "text": [
      "0.33350005557271817\n"
     ]
    },
    {
     "data": {
      "text/plain": [
       "Text(0.5, 1.0, 'dt')"
      ]
     },
     "execution_count": 142,
     "metadata": {},
     "output_type": "execute_result"
    },
    {
     "data": {
      "image/png": "[encoded data removed]",
      "text/plain": [
       "<Figure size 432x288 with 1 Axes>"
      ]
     },
     "metadata": {
      "needs_background": "light"
     },
     "output_type": "display_data"
    }
   ],
   "source": [
    "print(dt[0])\n",
    "plt.plot(dt)\n",
    "plt.title('dt')"
   ]
  },
  {
   "cell_type": "code",
   "execution_count": 143,
   "metadata": {},
   "outputs": [
    {
     "data": {
      "application/vnd.jupyter.widget-view+json": {
       "model_id": "5f07be3ecb8149b794ea151a5b65b855",
       "version_major": 2,
       "version_minor": 0
      },
      "text/plain": [
       "interactive(children=(IntSlider(value=1199, description='index', max=2399), Output()), _dom_classes=('widget-i…"
      ]
     },
     "metadata": {},
     "output_type": "display_data"
    }
   ],
   "source": [
    "fs = 1\n",
    "index_f = int(fs*len(profiles))\n",
    "# index = 12\n",
    "@interact(index=(0,index_f-1))\n",
    "def plot(index):\n",
    "    plt.clf()\n",
    "    plt.plot(profiles[index][0],profiles[index][1])\n",
    "    plt.title('profile')\n",
    "    \n",
    "    # plt.ylim(1,np.max(profiles[-1][1]))\n",
    "    plt.show()"
   ]
  },
  {
   "cell_type": "code",
   "execution_count": 149,
   "metadata": {},
   "outputs": [
    {
     "data": {
      "text/plain": [
       "Text(0.5, 1.0, 'dm vs t')"
      ]
     },
     "execution_count": 149,
     "metadata": {},
     "output_type": "execute_result"
    },
    {
     "data": {
      "image/png": "[encoded data removed]",
      "text/plain": [
       "<Figure size 432x288 with 1 Axes>"
      ]
     },
     "metadata": {
      "needs_background": "light"
     },
     "output_type": "display_data"
    }
   ],
   "source": [
    "dm = [mass_change[i+1]-mass_change[i] for i in range(len(mass_change)-1)]\n",
    "plt.plot(dm[:])\n",
    "plt.title('dm vs t')"
   ]
  },
  {
   "cell_type": "code",
   "execution_count": 145,
   "metadata": {},
   "outputs": [
    {
     "name": "stdout",
     "output_type": "stream",
     "text": [
      "-0.0007188599284981834\n"
     ]
    },
    {
     "data": {
      "text/plain": [
       "Text(0.5, 1.0, 'Mass Change vs time')"
      ]
     },
     "execution_count": 145,
     "metadata": {},
     "output_type": "execute_result"
    },
    {
     "data": {
      "image/png": "[encoded data removed]",
      "text/plain": [
       "<Figure size 432x288 with 1 Axes>"
      ]
     },
     "metadata": {
      "needs_background": "light"
     },
     "output_type": "display_data"
    }
   ],
   "source": [
    "plt.plot(time,mass_change)\n",
    "print(mass_change[-1])\n",
    "plt.title('Mass Change vs time')"
   ]
  },
  {
   "cell_type": "code",
   "execution_count": 146,
   "metadata": {},
   "outputs": [
    {
     "data": {
      "text/plain": [
       "Text(0.5, 1.0, 'Interface movement')"
      ]
     },
     "execution_count": 146,
     "metadata": {},
     "output_type": "execute_result"
    },
    {
     "data": {
      "image/png": "[encoded data removed]",
      "text/plain": [
       "<Figure size 432x288 with 1 Axes>"
      ]
     },
     "metadata": {
      "needs_background": "light"
     },
     "output_type": "display_data"
    }
   ],
   "source": [
    "plt.plot(time,interface)\n",
    "plt.title('Interface movement')"
   ]
  }
 ],
 "metadata": {
  "interpreter": {
   "hash": "aee8b7b246df8f9039afb4144a1f6fd8d2ca17a180786b69acc140d282b71a49"
  },
  "kernelspec": {
   "display_name": "Python 3.9.1 64-bit",
   "language": "python",
   "name": "python3"
  },
  "language_info": {
   "codemirror_mode": {
    "name": "ipython",
    "version": 3
   },
   "file_extension": ".py",
   "mimetype": "text/x-python",
   "name": "python",
   "nbconvert_exporter": "python",
   "pygments_lexer": "ipython3",
   "version": "3.9.1"
  },
  "orig_nbformat": 4
 },
 "nbformat": 4,
 "nbformat_minor": 2
}
