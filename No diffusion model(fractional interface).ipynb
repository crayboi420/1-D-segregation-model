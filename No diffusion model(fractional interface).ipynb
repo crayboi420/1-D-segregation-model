{
 "cells": [
  {
   "cell_type": "code",
   "execution_count": 15,
   "metadata": {},
   "outputs": [],
   "source": [
    "import math\n",
    "import numpy as np\n",
    "import matplotlib.pyplot as plt\n",
    "import scipy\n",
    "from matplotlib.animation import FuncAnimation\n",
    "import matplotlib\n",
    "import scipy.sparse as sps\n",
    "from tqdm import tqdm\n",
    "# matplotlib.rcParams['figure.figsize'] = [8, 7]"
   ]
  },
  {
   "cell_type": "markdown",
   "metadata": {},
   "source": [
    "## Initializing the Mesh"
   ]
  },
  {
   "cell_type": "code",
   "execution_count": 16,
   "metadata": {},
   "outputs": [],
   "source": [
    "domain_length = 1\n",
    "meshsize = 1000\n",
    "\n",
    "dx = domain_length/meshsize*np.ones((meshsize))\n",
    "\n",
    "x = np.ones((meshsize))\n",
    "x[0] = dx[0]/2\n",
    "for i in range(1,meshsize):\n",
    "    x[i] = x[i-1] + dx[i-1]/2+dx[i]/2"
   ]
  },
  {
   "cell_type": "markdown",
   "metadata": {},
   "source": [
    "## Entering phase diagram properties"
   ]
  },
  {
   "cell_type": "code",
   "execution_count": 17,
   "metadata": {},
   "outputs": [],
   "source": [
    "c0 = 2.1\n",
    "\n",
    "ceut = 4.2\n",
    "calpha = 2.1\n",
    "\n",
    "Tf = 1537\n",
    "Teut = 1153\n",
    "\n",
    "Tliq = (Teut-Tf)/ceut*c0 + Tf\n",
    "Tsol = (Teut-Tf)/calpha*c0+Tf\n",
    "\n",
    "kpar = calpha/ceut\n",
    "T_init_cast = Tliq\n",
    "\n",
    "c = c0*np.ones((meshsize))\n",
    "cinit = c.copy()\n",
    "\n",
    "def cl(T, Tf=Tf, ceut=ceut, Teut=Teut):\n",
    "    return (T-Tf)*ceut/(Teut-Tf)"
   ]
  },
  {
   "cell_type": "code",
   "execution_count": 18,
   "metadata": {},
   "outputs": [],
   "source": [
    "total_t = 100000\n",
    "dt = 10\n",
    "\n",
    "t = np.arange(0,total_t,dt)\n",
    "\n",
    "T = np.linspace(Tliq, Tsol, int(total_t/dt))"
   ]
  },
  {
   "cell_type": "code",
   "execution_count": 19,
   "metadata": {},
   "outputs": [],
   "source": [
    "def simulateLever(x,c,t=t,T=T,k=kpar):\n",
    "    \n",
    "    inter = 0\n",
    "\n",
    "    profiles = [(c.copy(),0)]\n",
    "    for i in range(1,len(t)):\n",
    "\n",
    "        #Finding out the solid part\n",
    "\n",
    "        isSolid = np.zeros((len(x)))\n",
    "        isLiquid = np.zeros((len(x)))\n",
    "        isSolid[0:int(inter)] = 1\n",
    "\n",
    "        # Finding the change in interface\n",
    "        jump = 3\n",
    "        d_inter = jump\n",
    "        change = 10\n",
    "\n",
    "        while abs(change)>0.01:\n",
    "\n",
    "            isLiquid[int(inter+d_inter)+1:] = 1\n",
    "            \n",
    "            solid_change = np.sum(np.dot(isSolid,k*cl(T[i]))) - np.sum(np.dot(isSolid,c))\n",
    "            liquid_change = np.sum(np.dot(isLiquid,cl(T[i]))) - np.sum(np.dot(isLiquid,c))\n",
    "            \n",
    "            #Figuring out the change in the two interface nodes\n",
    "            node1_change = (inter%1)*(k*cl(T[i]) - k*cl(T[i-1]))\n",
    "            node2_change = (1 - (inter+d_inter)%1)*(cl(T[i])-c[int(inter+d_inter)])\n",
    "            #Total mass change apart from interface movement\n",
    "            inter_change = -(solid_change+liquid_change+node1_change+node2_change)\n",
    "            #####\n",
    "            print(inter_change)\n",
    "            #Figuring out the jump again\n",
    "            initial_conc = (1-(inter)%1)*cl(T[i-1]) + np.sum(c[int(inter):int(inter+d_inter)]) + ((inter+d_inter)%1)*c[int(inter + d_inter)]\n",
    "            ######\n",
    "            print(initial_conc)\n",
    "            d_inter_new = (inter_change+initial_conc)/(k*cl(T[i]))\n",
    "            ######\n",
    "            print(d_inter_new)\n",
    "            change = d_inter_new-d_inter\n",
    "            ######\n",
    "            print(change)\n",
    "            d_inter = d_inter_new\n",
    "            print(inter+d_inter)\n",
    "            print()\n",
    "        \n",
    "        # Diffusion in solid and liquid\n",
    "        if(int(inter)!=int(inter+d_inter)):\n",
    "            c[int(inter)+1:int(inter+d_inter)] = k*cl(T[i])\n",
    "        #Diffusion in solid\n",
    "        c[0:int(inter)] = k*cl(T[i])\n",
    "        #Diffusion in liquid\n",
    "        c[int(inter+d_inter)+1:] = cl(T[i])\n",
    "        #Node 1\n",
    "        c[int(inter)] = k*cl(T[i])\n",
    "        #Node 2\n",
    "        c[int(inter+d_inter)] = ((inter+d_inter) %1)*k*cl(T[i]) + (1 - ((inter+d_inter) % 1))*cl(T[i])\n",
    "\n",
    "        inter = inter + d_inter\n",
    "        \n",
    "        profiles.append((c.copy(),inter))\n",
    "\n",
    "        if inter+jump>len(x):\n",
    "            print(\"Simulation finish\")\n",
    "            break\n",
    "    return profiles\n"
   ]
  },
  {
   "cell_type": "code",
   "execution_count": 20,
   "metadata": {},
   "outputs": [],
   "source": [
    "def simulateScheil(x, c, t=t, T=T, k=kpar):\n",
    "\n",
    "    c0 = np.average(c)\n",
    "    inter = 0\n",
    "    profiles = [(c.copy(), 0,0)]\n",
    "    for i in range(0, len(t)):\n",
    "        #Finding out the temperature\n",
    "        temp = T[i]\n",
    "\n",
    "        #Finding out the solid part\n",
    "        isSolid = np.zeros((len(x)))\n",
    "        isLiquid = np.zeros((len(x)))\n",
    "        isSolid[0:inter] = 1\n",
    "\n",
    "        # Finding the change in interface\n",
    "        jump = 3\n",
    "\n",
    "        d_inter = jump\n",
    "        change = 10\n",
    "\n",
    "        while abs(change) > 1:\n",
    "\n",
    "            isLiquid[inter+d_inter:] = 1\n",
    "\n",
    "            # Mass Change\n",
    "            solid_change = 0\n",
    "            liquid_change = np.sum(np.dot(isLiquid, cl(temp))) - np.sum(np.dot(isLiquid, c))\n",
    "            # Mass Balance\n",
    "            inter_change = -(solid_change+liquid_change)\n",
    "            d_inter_new = inter_change/((k-1)*cl(temp))\n",
    "            change = d_inter_new-d_inter\n",
    "            \n",
    "            # Conservation of mass violated\n",
    "            d_inter = round(d_inter_new)\n",
    "\n",
    "        ## Updating the values using new interface\n",
    "\n",
    "        # Diffusion in solid and liquid\n",
    "        if d_inter:\n",
    "            #Interface\n",
    "            c[inter:inter+d_inter] = k*cl(temp)\n",
    "            #Solid diffusion\n",
    "\n",
    "            #Liquid Diffusion\n",
    "            c[inter+d_inter:] = cl(temp)\n",
    "\n",
    "        inter = inter + d_inter\n",
    "        mass_change = np.average(c)-c0\n",
    "        profiles.append((c.copy(), inter,mass_change))\n",
    "\n",
    "        if inter+jump > len(x):\n",
    "            print(\"Simulation finish\")\n",
    "            break\n",
    "    return profiles\n"
   ]
  },
  {
   "cell_type": "code",
   "execution_count": 21,
   "metadata": {},
   "outputs": [],
   "source": [
    "Scheil = simulateScheil(x.copy(),c.copy())\n",
    "tf_scheil = (len(Scheil)-1)*dt"
   ]
  },
  {
   "cell_type": "code",
   "execution_count": 22,
   "metadata": {},
   "outputs": [
    {
     "name": "stdout",
     "output_type": "stream",
     "text": [
      "-0.20939093909727147\n",
      "8.4\n",
      "7.799799999996798\n",
      "4.799799999996798\n",
      "7.799799999996798\n",
      "\n",
      "-0.20922296429979248\n",
      "18.479579999993277\n",
      "17.3985999999904\n",
      "9.5987999999936\n",
      "17.3985999999904\n",
      "\n",
      "-0.20930722472583638\n",
      "38.63705999997984\n",
      "36.594199999977604\n",
      "19.195599999987206\n",
      "36.594199999977604\n",
      "\n",
      "-0.20926614461782828\n",
      "78.94781999995294\n",
      "74.98159999995198\n",
      "38.38739999997438\n",
      "74.98159999995198\n",
      "\n",
      "-0.2091847824816201\n",
      "159.56135999989917\n",
      "151.74879999990077\n",
      "76.76719999994879\n",
      "151.74879999990077\n",
      "\n",
      "-0.20923367537091975\n",
      "320.77247999979164\n",
      "305.2677999997984\n",
      "153.51899999989763\n",
      "305.2677999997984\n",
      "\n",
      "-0.2093346954729514\n",
      "643.1623799995767\n",
      "612.2749999995937\n",
      "307.00719999979526\n",
      "612.2749999995937\n",
      "\n",
      "-0.20933318332177928\n",
      "1287.877499999147\n",
      "1226.2279999991842\n",
      "613.9529999995906\n",
      "1226.2279999991842\n",
      "\n"
     ]
    },
    {
     "ename": "IndexError",
     "evalue": "index 1226 is out of bounds for axis 0 with size 1000",
     "output_type": "error",
     "traceback": [
      "\u001b[0;31m---------------------------------------------------------------------------\u001b[0m",
      "\u001b[0;31mIndexError\u001b[0m                                Traceback (most recent call last)",
      "\u001b[0;32m/var/folders/7c/qwz8szqd215_n8wgycyx49sh0000gn/T/ipykernel_84637/1691895408.py\u001b[0m in \u001b[0;36m<module>\u001b[0;34m\u001b[0m\n\u001b[0;32m----> 1\u001b[0;31m \u001b[0mLever\u001b[0m \u001b[0;34m=\u001b[0m \u001b[0msimulateLever\u001b[0m\u001b[0;34m(\u001b[0m\u001b[0mx\u001b[0m\u001b[0;34m.\u001b[0m\u001b[0mcopy\u001b[0m\u001b[0;34m(\u001b[0m\u001b[0;34m)\u001b[0m\u001b[0;34m,\u001b[0m \u001b[0mc\u001b[0m\u001b[0;34m.\u001b[0m\u001b[0mcopy\u001b[0m\u001b[0;34m(\u001b[0m\u001b[0;34m)\u001b[0m\u001b[0;34m)\u001b[0m\u001b[0;34m\u001b[0m\u001b[0;34m\u001b[0m\u001b[0m\n\u001b[0m\u001b[1;32m      2\u001b[0m \u001b[0mtf_lever\u001b[0m \u001b[0;34m=\u001b[0m \u001b[0;34m(\u001b[0m\u001b[0mlen\u001b[0m\u001b[0;34m(\u001b[0m\u001b[0mLever\u001b[0m\u001b[0;34m)\u001b[0m\u001b[0;34m-\u001b[0m\u001b[0;36m1\u001b[0m\u001b[0;34m)\u001b[0m\u001b[0;34m*\u001b[0m\u001b[0mdt\u001b[0m\u001b[0;34m\u001b[0m\u001b[0;34m\u001b[0m\u001b[0m\n",
      "\u001b[0;32m/var/folders/7c/qwz8szqd215_n8wgycyx49sh0000gn/T/ipykernel_84637/24604393.py\u001b[0m in \u001b[0;36msimulateLever\u001b[0;34m(x, c, t, T, k)\u001b[0m\n\u001b[1;32m     26\u001b[0m             \u001b[0;31m#Figuring out the change in the two interface nodes\u001b[0m\u001b[0;34m\u001b[0m\u001b[0;34m\u001b[0m\u001b[0;34m\u001b[0m\u001b[0m\n\u001b[1;32m     27\u001b[0m             \u001b[0mnode1_change\u001b[0m \u001b[0;34m=\u001b[0m \u001b[0;34m(\u001b[0m\u001b[0minter\u001b[0m\u001b[0;34m%\u001b[0m\u001b[0;36m1\u001b[0m\u001b[0;34m)\u001b[0m\u001b[0;34m*\u001b[0m\u001b[0;34m(\u001b[0m\u001b[0mk\u001b[0m\u001b[0;34m*\u001b[0m\u001b[0mcl\u001b[0m\u001b[0;34m(\u001b[0m\u001b[0mT\u001b[0m\u001b[0;34m[\u001b[0m\u001b[0mi\u001b[0m\u001b[0;34m]\u001b[0m\u001b[0;34m)\u001b[0m \u001b[0;34m-\u001b[0m \u001b[0mk\u001b[0m\u001b[0;34m*\u001b[0m\u001b[0mcl\u001b[0m\u001b[0;34m(\u001b[0m\u001b[0mT\u001b[0m\u001b[0;34m[\u001b[0m\u001b[0mi\u001b[0m\u001b[0;34m-\u001b[0m\u001b[0;36m1\u001b[0m\u001b[0;34m]\u001b[0m\u001b[0;34m)\u001b[0m\u001b[0;34m)\u001b[0m\u001b[0;34m\u001b[0m\u001b[0;34m\u001b[0m\u001b[0m\n\u001b[0;32m---> 28\u001b[0;31m             \u001b[0mnode2_change\u001b[0m \u001b[0;34m=\u001b[0m \u001b[0;34m(\u001b[0m\u001b[0;36m1\u001b[0m \u001b[0;34m-\u001b[0m \u001b[0;34m(\u001b[0m\u001b[0minter\u001b[0m\u001b[0;34m+\u001b[0m\u001b[0md_inter\u001b[0m\u001b[0;34m)\u001b[0m\u001b[0;34m%\u001b[0m\u001b[0;36m1\u001b[0m\u001b[0;34m)\u001b[0m\u001b[0;34m*\u001b[0m\u001b[0;34m(\u001b[0m\u001b[0mcl\u001b[0m\u001b[0;34m(\u001b[0m\u001b[0mT\u001b[0m\u001b[0;34m[\u001b[0m\u001b[0mi\u001b[0m\u001b[0;34m]\u001b[0m\u001b[0;34m)\u001b[0m\u001b[0;34m-\u001b[0m\u001b[0mc\u001b[0m\u001b[0;34m[\u001b[0m\u001b[0mint\u001b[0m\u001b[0;34m(\u001b[0m\u001b[0minter\u001b[0m\u001b[0;34m+\u001b[0m\u001b[0md_inter\u001b[0m\u001b[0;34m)\u001b[0m\u001b[0;34m]\u001b[0m\u001b[0;34m)\u001b[0m\u001b[0;34m\u001b[0m\u001b[0;34m\u001b[0m\u001b[0m\n\u001b[0m\u001b[1;32m     29\u001b[0m             \u001b[0;31m#Total mass change apart from interface movement\u001b[0m\u001b[0;34m\u001b[0m\u001b[0;34m\u001b[0m\u001b[0;34m\u001b[0m\u001b[0m\n\u001b[1;32m     30\u001b[0m             \u001b[0minter_change\u001b[0m \u001b[0;34m=\u001b[0m \u001b[0;34m-\u001b[0m\u001b[0;34m(\u001b[0m\u001b[0msolid_change\u001b[0m\u001b[0;34m+\u001b[0m\u001b[0mliquid_change\u001b[0m\u001b[0;34m+\u001b[0m\u001b[0mnode1_change\u001b[0m\u001b[0;34m+\u001b[0m\u001b[0mnode2_change\u001b[0m\u001b[0;34m)\u001b[0m\u001b[0;34m\u001b[0m\u001b[0;34m\u001b[0m\u001b[0m\n",
      "\u001b[0;31mIndexError\u001b[0m: index 1226 is out of bounds for axis 0 with size 1000"
     ]
    }
   ],
   "source": [
    "Lever = simulateLever(x.copy(), c.copy())\n",
    "tf_lever = (len(Lever)-1)*dt"
   ]
  },
  {
   "cell_type": "code",
   "execution_count": null,
   "metadata": {},
   "outputs": [],
   "source": [
    "interface_Lever = np.zeros(len(Lever))\n",
    "for i in range(0, len(Lever)):\n",
    "    interface_Lever[i] = Lever[i][1]"
   ]
  },
  {
   "cell_type": "code",
   "execution_count": null,
   "metadata": {},
   "outputs": [],
   "source": [
    "interface_Scheil = np.zeros(len(Scheil))\n",
    "for i in range(0,len(Scheil)):\n",
    "    interface_Scheil[i] = Scheil[i][1]"
   ]
  },
  {
   "cell_type": "code",
   "execution_count": null,
   "metadata": {},
   "outputs": [],
   "source": [
    "mass_change = np.zeros(len(Scheil))\n",
    "for i in range(0, len(Scheil)):\n",
    "    mass_change[i] = Scheil[i][2]"
   ]
  },
  {
   "cell_type": "code",
   "execution_count": null,
   "metadata": {},
   "outputs": [],
   "source": [
    "plt.plot(Lever[-1][0])\n",
    "print(tf_lever)"
   ]
  },
  {
   "cell_type": "code",
   "execution_count": null,
   "metadata": {},
   "outputs": [
    {
     "name": "stdout",
     "output_type": "stream",
     "text": [
      "100000\n"
     ]
    },
    {
     "data": {
      "image/png": "[encoded data removed]",
      "text/plain": [
       "<Figure size 432x288 with 1 Axes>"
      ]
     },
     "metadata": {
      "needs_background": "light"
     },
     "output_type": "display_data"
    }
   ],
   "source": [
    "plt.plot(Scheil[-1][0])\n",
    "print(tf_scheil)"
   ]
  },
  {
   "cell_type": "code",
   "execution_count": null,
   "metadata": {},
   "outputs": [
    {
     "data": {
      "text/plain": [
       "[<matplotlib.lines.Line2D at 0x115264970>]"
      ]
     },
     "execution_count": 14,
     "metadata": {},
     "output_type": "execute_result"
    },
    {
     "data": {
      "image/png": "[encoded data removed]",
      "text/plain": [
       "<Figure size 432x288 with 1 Axes>"
      ]
     },
     "metadata": {
      "needs_background": "light"
     },
     "output_type": "display_data"
    }
   ],
   "source": [
    "plt.plot(mass_change)"
   ]
  }
 ],
 "metadata": {
  "interpreter": {
   "hash": "aee8b7b246df8f9039afb4144a1f6fd8d2ca17a180786b69acc140d282b71a49"
  },
  "kernelspec": {
   "display_name": "Python 3.9.1 64-bit",
   "language": "python",
   "name": "python3"
  },
  "language_info": {
   "codemirror_mode": {
    "name": "ipython",
    "version": 3
   },
   "file_extension": ".py",
   "mimetype": "text/x-python",
   "name": "python",
   "nbconvert_exporter": "python",
   "pygments_lexer": "ipython3",
   "version": "3.9.1"
  },
  "orig_nbformat": 4
 },
 "nbformat": 4,
 "nbformat_minor": 2
}
