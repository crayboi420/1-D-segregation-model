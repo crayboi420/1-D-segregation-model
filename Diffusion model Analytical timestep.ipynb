{
 "cells": [
  {
   "cell_type": "code",
   "execution_count": 39,
   "metadata": {},
   "outputs": [],
   "source": [
    "import math\n",
    "import numpy as np\n",
    "import matplotlib.pyplot as plt\n",
    "import scipy\n",
    "from matplotlib.animation import FuncAnimation\n",
    "import matplotlib\n",
    "import scipy.sparse as sps\n",
    "from tqdm import tqdm\n",
    "from ipywidgets import interact, interactive, fixed, interact_manual\n",
    "import ipywidgets as widgets\n",
    "# matplotlib.rcParams['figure.figsize'] = [8, 7]\n",
    "from IPython.display import clear_output"
   ]
  },
  {
   "cell_type": "code",
   "execution_count": 40,
   "metadata": {},
   "outputs": [],
   "source": [
    "import os\n",
    "os.chdir(r'/Volumes/GoogleDrive/My Drive/Classroom/DTU/Special Course/Report/figures/NoDiff')"
   ]
  },
  {
   "cell_type": "markdown",
   "metadata": {},
   "source": [
    "## Initializing the Mesh"
   ]
  },
  {
   "cell_type": "code",
   "execution_count": 41,
   "metadata": {},
   "outputs": [],
   "source": [
    "domain_length = 1\n",
    "meshsize = 200\n",
    "\n",
    "dx = domain_length/meshsize*np.ones((meshsize))\n",
    "\n",
    "x = np.ones((meshsize))\n",
    "x[0] = dx[0]/2\n",
    "for i in range(1,meshsize):\n",
    "    x[i] = x[i-1] + dx[i-1]/2+dx[i]/2"
   ]
  },
  {
   "cell_type": "markdown",
   "metadata": {},
   "source": [
    "## Entering phase diagram properties"
   ]
  },
  {
   "cell_type": "code",
   "execution_count": 42,
   "metadata": {},
   "outputs": [],
   "source": [
    "c0 = 2.1\n",
    "\n",
    "ceut = 4.2\n",
    "calpha = 2.1\n",
    "\n",
    "Tf = 1537\n",
    "Teut = 1153\n",
    "\n",
    "Tliq = (Teut-Tf)/ceut*c0 + Tf\n",
    "Tsol = (Teut-Tf)/calpha*c0+Tf\n",
    "\n",
    "kpar = calpha/ceut\n",
    "T_init_cast = Tliq\n",
    "\n",
    "c = c0*np.ones((meshsize))\n",
    "cinit = c.copy()\n",
    "\n",
    "def cl(T, Tf=Tf, ceut=ceut, Teut=Teut):\n",
    "    return (T-Tf)*ceut/(Teut-Tf)\n",
    "\n",
    "def TfromCl(cl, Tf=Tf, ceut=ceut, Teut=Teut):\n",
    "    return cl/ceut*(Teut-Tf)+Tf\n",
    "\n",
    "total_mass = domain_length*c0\n"
   ]
  },
  {
   "cell_type": "code",
   "execution_count": 43,
   "metadata": {},
   "outputs": [],
   "source": [
    "final_t = 2000\n",
    "\n",
    "#Defining temperature as a function of time. Linear, no diffusion\n",
    "\n",
    "def temp(time,Tsol=Tsol,Tliq=Tliq,tf=final_t):\n",
    "    return Tliq + (Tsol-Tliq)*time/tf\n",
    "\n",
    "def timeFromTemp(temp, Tsol=Tsol, Tliq=Tliq, tf=final_t):\n",
    "    return (temp-Tliq)/(Tsol-Tliq)*tf"
   ]
  },
  {
   "cell_type": "markdown",
   "metadata": {},
   "source": [
    "## Diffusion"
   ]
  },
  {
   "cell_type": "code",
   "execution_count": 44,
   "metadata": {},
   "outputs": [],
   "source": [
    "def diffusion_step(dx,c,dt,D,b1,b2,theta=1):\n",
    "    \n",
    "    meshsize = len(dx)\n",
    "    r = np.zeros(meshsize)\n",
    "\n",
    "    r[0] , r[meshsize-1] = 1/b1,1/b2\n",
    "    r[1:meshsize-1] = dx[1:meshsize-1]/(2*D)\n",
    "    \n",
    "    hcon = np.zeros(meshsize)\n",
    "    hcap = np.zeros(meshsize)\n",
    "\n",
    "    for i in range(1, meshsize):\n",
    "        hcon[i] = 1/(r[i-1]+r[i])\n",
    "\n",
    "    for i in range(1, meshsize-1):\n",
    "        hcap[i] = dx[i]/dt\n",
    "\n",
    "    Att= calcAtt(hcon,hcap,theta=theta)\n",
    "    At= calcAt(hcon,hcap,theta=theta)\n",
    "\n",
    "    return np.linalg.inv(Att)@At@c\n",
    "\n",
    "\n",
    "def calcAtt(hcon, hcap,theta):\n",
    "    size = len(hcap)\n",
    "    Att = np.zeros((size, size))\n",
    "    for i in range(0, size):\n",
    "        # Left boundary condition constant concentration\n",
    "        if i == 0:\n",
    "            Att[i][i] = 1\n",
    "            continue\n",
    "        # Right boundary condition constant concentration\n",
    "        if i == size-1:\n",
    "            Att[i][i] = 1\n",
    "            continue\n",
    "        Att[i][i-1] = -theta*hcon[i]\n",
    "        Att[i][i] = hcap[i] + theta*hcon[i] + hcon[i+1]*theta\n",
    "        Att[i][i+1] = -theta*hcon[i+1]\n",
    "    return Att\n",
    "    \n",
    "def calcAt(hcon, hcap,theta):\n",
    "    size = len(hcap)\n",
    "    At = np.zeros((size, size))\n",
    "    for i in range(0, size):\n",
    "        #Left boundary condition\n",
    "        if i == 0:\n",
    "            At[i][i] = 1\n",
    "            continue\n",
    "        #Right boundary condition\n",
    "        if i == size-1:\n",
    "            At[i][i] = 1\n",
    "            continue\n",
    "        At[i][i-1] = (1-theta)*hcon[i]\n",
    "        At[i][i] = hcap[i]-(1-theta)*hcon[i]-(1-theta)*hcon[i+1]\n",
    "        At[i][i+1] = (1-theta)*hcon[i+1]\n",
    "    return At"
   ]
  },
  {
   "cell_type": "code",
   "execution_count": 45,
   "metadata": {},
   "outputs": [],
   "source": [
    "def simulateScheilTimestep(dx, c, steps,fs_final=1, tf=final_t, k=kpar):\n",
    "    \n",
    "    length = np.sum(dx)\n",
    "    meshsize = len(dx)\n",
    "    c0 = np.average(c)\n",
    "    c_initial = c.copy()\n",
    "    t = 0\n",
    "\n",
    "    #Concentrations inside stepped nodes\n",
    "\n",
    "    profiles = []\n",
    "\n",
    "    #Total mass\n",
    "    total_mass = length*c0\n",
    "\n",
    "    for inter in tqdm(range(0,round(fs_final*meshsize))):\n",
    "        \n",
    "        concentrations = c[inter]*np.ones((steps))\n",
    "        \n",
    "        # Iterating over nodes\n",
    "        for step in range(steps):\n",
    "\n",
    "            T_old = temp(t)\n",
    "\n",
    "            #### Analytical method\n",
    "            #Find dt\n",
    "            fs = (inter + step/steps)/meshsize\n",
    "            dfs = 1/(steps*meshsize)\n",
    "\n",
    "            cl_old = cl(T_old)\n",
    "            cl_new = cl_old+ dfs/(1-fs)*cl_old*(1-k)\n",
    "            T = TfromCl(cl_new)\n",
    "\n",
    "            dt = timeFromTemp(T)-t\n",
    "            t= t+dt\n",
    "            \n",
    "            t = timeFromTemp(T)\n",
    "\n",
    "            ## Updating the values using new interface\n",
    "\n",
    "            # Diffusion in solid and liquid\n",
    "            # Interface\n",
    "            concentrations[step] = k*cl(T)\n",
    "            concentrations[step+1:] = cl(T)\n",
    "            # Solid diffusion\n",
    "            # Liquid Diffusion\n",
    "            c[inter+1:] = cl(T)\n",
    "\n",
    "            c[inter] = np.average(concentrations)\n",
    "            mass_change = (np.sum(dx*c) - np.sum(dx*c_initial))\n",
    "\n",
    "            profiles.append((c.copy(), inter, mass_change, t))\n",
    "    return profiles\n"
   ]
  },
  {
   "cell_type": "code",
   "execution_count": 46,
   "metadata": {},
   "outputs": [],
   "source": [
    "def simulateLeverTimestep(dx, c, steps,fs_final=1, tf=final_t, k=kpar):\n",
    "    \n",
    "    length = np.sum(dx)\n",
    "    meshsize = len(dx)\n",
    "    c0 = np.average(c)\n",
    "    c_initial = c.copy()\n",
    "    t = 0\n",
    "    #Interface node\n",
    "    inter = 0\n",
    "    # Step inside interface node\n",
    "    step = 0\n",
    "    #Concentrations inside stepped nodes\n",
    "\n",
    "    profiles = []\n",
    "\n",
    "    for inter in tqdm(range(0,round(fs_final*meshsize))):\n",
    "        \n",
    "        concentrations = c[inter]*np.ones((steps))\n",
    "        \n",
    "        # Iterating over nodes\n",
    "        for step in range(0,steps):\n",
    "\n",
    "            T_old = temp(t)\n",
    "\n",
    "            #Find dt\n",
    "            fs = (inter + step/steps)/meshsize\n",
    "            dfs = 1/(steps*meshsize)\n",
    "\n",
    "            cl_old = cl(T_old)\n",
    "            cl_new = cl_old+ dfs/(1+(k-1)*fs)*cl_old*(1-k)\n",
    "            T = TfromCl(cl_new)\n",
    "\n",
    "            t = timeFromTemp(T)\n",
    "            \n",
    "            ## Updating the values using new interface\n",
    "\n",
    "            # Diffusion in solid and liquid\n",
    "            # Interface\n",
    "            concentrations[:step+1] = k*cl(T)\n",
    "            concentrations[step+1:] = cl(T)\n",
    "            # Solid diffusion\n",
    "            c[:inter] = k*cl(T)\n",
    "            # Liquid Diffusion\n",
    "            c[inter+1:] = cl(T)\n",
    "\n",
    "            c[inter] = np.average(concentrations)\n",
    "            mass_change = (np.sum(dx*c) -np.sum(dx*c_initial))\n",
    "\n",
    "            profiles.append((c.copy(), inter,mass_change,t))\n",
    "    return profiles"
   ]
  },
  {
   "cell_type": "code",
   "execution_count": 47,
   "metadata": {},
   "outputs": [
    {
     "name": "stderr",
     "output_type": "stream",
     "text": [
      "100%|██████████| 200/200 [00:00<00:00, 3280.55it/s]\n"
     ]
    }
   ],
   "source": [
    "steps = 10\n",
    "Simulation_result = simulateScheilTimestep(dx.copy(),c.copy(),steps,fs_final=1)"
   ]
  },
  {
   "cell_type": "code",
   "execution_count": 48,
   "metadata": {},
   "outputs": [
    {
     "name": "stderr",
     "output_type": "stream",
     "text": [
      "100%|██████████| 160/160 [00:00<00:00, 4342.74it/s]\n"
     ]
    }
   ],
   "source": [
    "steps = 10\n",
    "Simulation_result2 = simulateScheilTimestep(dx.copy(), c.copy(), steps, fs_final=0.8)\n"
   ]
  },
  {
   "cell_type": "code",
   "execution_count": 49,
   "metadata": {},
   "outputs": [
    {
     "name": "stdout",
     "output_type": "stream",
     "text": [
      "2000\n"
     ]
    }
   ],
   "source": [
    "profiles = [Simulation_result[i][0] for i in range(len(Simulation_result))]\n",
    "interface = [Simulation_result[i][1] for i in range(len(Simulation_result))]\n",
    "mass_change = [Simulation_result[i][2] for i in range(len(Simulation_result))]\n",
    "time = [Simulation_result[i][3] for i in range(len(Simulation_result))]\n",
    "dt = [time[i+1]-time[i] for i in range(len(time)-1)]\n",
    "\n",
    "print(len(profiles))"
   ]
  },
  {
   "cell_type": "code",
   "execution_count": 50,
   "metadata": {},
   "outputs": [
    {
     "name": "stdout",
     "output_type": "stream",
     "text": [
      "1600\n"
     ]
    }
   ],
   "source": [
    "profiles2 = [Simulation_result2[i][0] for i in range(len(Simulation_result2))]\n",
    "interface2 = [Simulation_result2[i][1] for i in range(len(Simulation_result2))]\n",
    "mass_change2 = [Simulation_result2[i][2] for i in range(len(Simulation_result2))]\n",
    "time2 = [Simulation_result2[i][3] for i in range(len(Simulation_result2))]\n",
    "dt2 = [time2[i+1]-time2[i] for i in range(len(time2)-12)]\n",
    "\n",
    "print(len(profiles2))"
   ]
  },
  {
   "cell_type": "code",
   "execution_count": 51,
   "metadata": {},
   "outputs": [
    {
     "name": "stdout",
     "output_type": "stream",
     "text": [
      "Tf = 98944.22299499677 s\n"
     ]
    },
    {
     "data": {
      "text/plain": [
       "Text(0.5, 1.0, 'Time')"
      ]
     },
     "execution_count": 51,
     "metadata": {},
     "output_type": "execute_result"
    },
    {
     "data": {
      "image/png": "[encoded data removed]",
      "text/plain": [
       "<Figure size 432x288 with 1 Axes>"
      ]
     },
     "metadata": {
      "needs_background": "light"
     },
     "output_type": "display_data"
    }
   ],
   "source": [
    "print(\"Tf = \"+str(time[-1])+\" s\")\n",
    "plt.plot(time)\n",
    "plt.title('Time')"
   ]
  },
  {
   "cell_type": "code",
   "execution_count": 52,
   "metadata": {},
   "outputs": [
    {
     "name": "stdout",
     "output_type": "stream",
     "text": [
      "0.5003751875941967\n"
     ]
    },
    {
     "data": {
      "text/plain": [
       "Text(0.5, 1.0, 'dt')"
      ]
     },
     "execution_count": 52,
     "metadata": {},
     "output_type": "execute_result"
    },
    {
     "data": {
      "image/png": "[encoded data removed]",
      "text/plain": [
       "<Figure size 432x288 with 1 Axes>"
      ]
     },
     "metadata": {
      "needs_background": "light"
     },
     "output_type": "display_data"
    }
   ],
   "source": [
    "print(dt[0])\n",
    "plt.plot(dt)\n",
    "plt.title('dt')"
   ]
  },
  {
   "cell_type": "code",
   "execution_count": 53,
   "metadata": {},
   "outputs": [
    {
     "data": {
      "application/vnd.jupyter.widget-view+json": {
       "model_id": "3a9040eb08de4ff8b51d2503ee500200",
       "version_major": 2,
       "version_minor": 0
      },
      "text/plain": [
       "interactive(children=(IntSlider(value=999, description='index', max=1999), Output()), _dom_classes=('widget-in…"
      ]
     },
     "metadata": {},
     "output_type": "display_data"
    }
   ],
   "source": [
    "fs = 1\n",
    "index_f = int(fs*len(profiles))\n",
    "# index = 12\n",
    "@interact(index=(0,index_f-1))\n",
    "def plot(index):\n",
    "    plt.clf()\n",
    "    plt.plot(x,profiles[index])\n",
    "    plt.title('profile')\n",
    "    # plt.ylim(1,np.max(profiles[-1][1]))\n",
    "    plt.show()"
   ]
  },
  {
   "cell_type": "code",
   "execution_count": 54,
   "metadata": {},
   "outputs": [
    {
     "data": {
      "image/png": "[encoded data removed]",
      "text/plain": [
       "<Figure size 432x288 with 1 Axes>"
      ]
     },
     "metadata": {
      "needs_background": "light"
     },
     "output_type": "display_data"
    }
   ],
   "source": [
    "plt.plot(x,profiles[100])\n",
    "plt.xlabel('Position')\n",
    "plt.ylabel('Conc')\n",
    "plt.savefig('Scheil timestep prof.png',bbox_inches='tight',dpi = 400)"
   ]
  },
  {
   "cell_type": "code",
   "execution_count": 55,
   "metadata": {},
   "outputs": [
    {
     "data": {
      "text/plain": [
       "Text(0.5, 1.0, 'dm vs t')"
      ]
     },
     "execution_count": 55,
     "metadata": {},
     "output_type": "execute_result"
    },
    {
     "data": {
      "image/png": "[encoded data removed]",
      "text/plain": [
       "<Figure size 432x288 with 1 Axes>"
      ]
     },
     "metadata": {
      "needs_background": "light"
     },
     "output_type": "display_data"
    }
   ],
   "source": [
    "dm = [mass_change[i+1]-mass_change[i] for i in range(len(mass_change)-1)]\n",
    "plt.plot(dm[100:])\n",
    "plt.title('dm vs t')"
   ]
  },
  {
   "cell_type": "code",
   "execution_count": 56,
   "metadata": {},
   "outputs": [
    {
     "name": "stdout",
     "output_type": "stream",
     "text": [
      "-0.012368027874395657\n"
     ]
    },
    {
     "data": {
      "image/png": "[encoded data removed]",
      "text/plain": [
       "<Figure size 432x288 with 1 Axes>"
      ]
     },
     "metadata": {
      "needs_background": "light"
     },
     "output_type": "display_data"
    }
   ],
   "source": [
    "plt.plot(time,np.array(mass_change)/total_mass,label='Steps = 1')\n",
    "plt.plot(time2,np.array(mass_change2)/total_mass,label='Steps = 10')\n",
    "print(mass_change[-1]/total_mass)\n",
    "plt.ylabel('Mass change')\n",
    "plt.xlabel('Time')\n",
    "plt.legend()\n",
    "plt.savefig('Scheil timestep loss.png', bbox_inches='tight', dpi=400)"
   ]
  },
  {
   "cell_type": "code",
   "execution_count": 57,
   "metadata": {},
   "outputs": [
    {
     "data": {
      "text/plain": [
       "Text(0.5, 1.0, 'Interface movement')"
      ]
     },
     "execution_count": 57,
     "metadata": {},
     "output_type": "execute_result"
    },
    {
     "data": {
      "image/png": "[encoded data removed]",
      "text/plain": [
       "<Figure size 432x288 with 1 Axes>"
      ]
     },
     "metadata": {
      "needs_background": "light"
     },
     "output_type": "display_data"
    }
   ],
   "source": [
    "plt.plot(time,interface)\n",
    "plt.title('Interface movement')"
   ]
  }
 ],
 "metadata": {
  "interpreter": {
   "hash": "aee8b7b246df8f9039afb4144a1f6fd8d2ca17a180786b69acc140d282b71a49"
  },
  "kernelspec": {
   "display_name": "Python 3.9.1 64-bit",
   "language": "python",
   "name": "python3"
  },
  "language_info": {
   "codemirror_mode": {
    "name": "ipython",
    "version": 3
   },
   "file_extension": ".py",
   "mimetype": "text/x-python",
   "name": "python",
   "nbconvert_exporter": "python",
   "pygments_lexer": "ipython3",
   "version": "3.9.1"
  },
  "orig_nbformat": 4
 },
 "nbformat": 4,
 "nbformat_minor": 2
}
