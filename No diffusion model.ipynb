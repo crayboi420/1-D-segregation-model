{
 "cells": [
  {
   "cell_type": "code",
   "execution_count": 46,
   "metadata": {},
   "outputs": [],
   "source": [
    "import math\n",
    "import numpy as np\n",
    "import matplotlib.pyplot as plt\n",
    "import scipy\n",
    "from matplotlib.animation import FuncAnimation\n",
    "import matplotlib\n",
    "import scipy.sparse as sps\n",
    "from tqdm import tqdm\n",
    "# matplotlib.rcParams['figure.figsize'] = [8, 7]"
   ]
  },
  {
   "cell_type": "code",
   "execution_count": 47,
   "metadata": {},
   "outputs": [],
   "source": [
    "import os\n",
    "os.chdir(r'/Volumes/GoogleDrive/My Drive/Classroom/DTU/Special Course/Report/figures/NoDiff')"
   ]
  },
  {
   "cell_type": "markdown",
   "metadata": {},
   "source": [
    "## Initializing the Mesh"
   ]
  },
  {
   "cell_type": "code",
   "execution_count": 48,
   "metadata": {},
   "outputs": [],
   "source": [
    "domain_length = 1\n",
    "meshsize = 1000\n",
    "\n",
    "dx = domain_length/meshsize*np.ones((meshsize))\n",
    "\n",
    "x = np.ones((meshsize))\n",
    "x[0] = dx[0]/2\n",
    "for i in range(1,meshsize):\n",
    "    x[i] = x[i-1] + dx[i-1]/2+dx[i]/2"
   ]
  },
  {
   "cell_type": "markdown",
   "metadata": {},
   "source": [
    "## Entering phase diagram properties"
   ]
  },
  {
   "cell_type": "code",
   "execution_count": 49,
   "metadata": {},
   "outputs": [],
   "source": [
    "c0 = 2.1\n",
    "\n",
    "ceut = 4.2\n",
    "calpha = 2.1\n",
    "\n",
    "Tf = 1537\n",
    "Teut = 1153\n",
    "\n",
    "Tliq = (Teut-Tf)/ceut*c0 + Tf\n",
    "Tsol = (Teut-Tf)/calpha*c0+Tf\n",
    "\n",
    "kpar = calpha/ceut\n",
    "T_init_cast = Tliq\n",
    "\n",
    "c = c0*np.ones((meshsize))\n",
    "cinit = c.copy()\n",
    "def cl(T, Tf=Tf, ceut=ceut, Teut=Teut):\n",
    "    return (T-Tf)*ceut/(Teut-Tf)"
   ]
  },
  {
   "cell_type": "code",
   "execution_count": 50,
   "metadata": {},
   "outputs": [],
   "source": [
    "total_t = 100000\n",
    "dt = 0.5\n",
    "\n",
    "t = np.arange(0,total_t,dt)\n",
    "\n",
    "T = np.linspace(Tliq, Tsol, int(total_t/dt))"
   ]
  },
  {
   "cell_type": "code",
   "execution_count": 51,
   "metadata": {},
   "outputs": [],
   "source": [
    "def simulateLever(x,c,t=t,T=T,k=kpar):\n",
    "    \n",
    "    inter = 0\n",
    "    Scheil = [(c.copy(),0)]\n",
    "    for i in tqdm(range(0,len(t))) :\n",
    "        #Finding out the temperature\n",
    "        temp = T[i]\n",
    "\n",
    "        #Finding out the solid part\n",
    "        isSolid = np.zeros((len(x)))\n",
    "        isLiquid = np.zeros((len(x)))\n",
    "        isSolid[0:inter] = 1\n",
    "\n",
    "        # Finding the change in interface\n",
    "        jump = 10   \n",
    "        d_inter = jump\n",
    "        change = 10\n",
    "\n",
    "        while abs(change)>1:\n",
    "\n",
    "            isLiquid[inter+d_inter:] = 1\n",
    "            \n",
    "            solid_change = np.sum(np.dot(isSolid,k*cl(temp))) - np.sum(np.dot(isSolid,c))\n",
    "            liquid_change = np.sum(np.dot(isLiquid,cl(temp))) - np.sum(np.dot(isLiquid,c))\n",
    "            \n",
    "            inter_change = -(solid_change+liquid_change)\n",
    "            d_inter_new = inter_change/((k-1)*cl(temp))\n",
    "            change = d_inter_new-d_inter\n",
    "            d_inter = round(d_inter_new)\n",
    "\n",
    "        # Diffusion in solid and liquid\n",
    "\n",
    "        if d_inter:    \n",
    "            c[inter:inter+d_inter] = k*cl(temp)\n",
    "            c[0:inter] = k*cl(temp)\n",
    "            c[inter+d_inter:] = cl(temp)\n",
    "            \n",
    "        inter = inter + d_inter\n",
    "        \n",
    "        Scheil.append((c.copy(),inter))\n",
    "\n",
    "        if inter+jump>len(x):\n",
    "            print(\"Simulation finish\")\n",
    "            break\n",
    "    return Scheil"
   ]
  },
  {
   "cell_type": "code",
   "execution_count": 52,
   "metadata": {},
   "outputs": [],
   "source": [
    "def simulateScheil(x, c, t=t, T=T, k=kpar):\n",
    "\n",
    "    inter = 0\n",
    "    Scheil = [(c.copy(), 0)]\n",
    "    for i in tqdm(range(0, len(t))):\n",
    "        #Finding out the temperature\n",
    "        temp = T[i]\n",
    "\n",
    "        #Finding out the solid part\n",
    "        isSolid = np.zeros((len(x)))\n",
    "        isLiquid = np.zeros((len(x)))\n",
    "        isSolid[0:inter] = 1\n",
    "\n",
    "        # Finding the change in interface\n",
    "        jump = 10\n",
    "        d_inter = jump\n",
    "        change = 10\n",
    "\n",
    "        while abs(change) > 1:\n",
    "\n",
    "            isLiquid[inter+d_inter:] = 1\n",
    "\n",
    "            solid_change = 0\n",
    "            liquid_change = np.sum(np.dot(isLiquid, cl(temp))) - np.sum(np.dot(isLiquid, c))\n",
    "\n",
    "            inter_change = -(solid_change+liquid_change)\n",
    "            d_inter_new = inter_change/((k-1)*cl(temp))\n",
    "            change = d_inter_new-d_inter\n",
    "            d_inter = round(d_inter_new)\n",
    "\n",
    "        # Diffusion in solid and liquid\n",
    "\n",
    "        if d_inter:\n",
    "            #Interface\n",
    "            c[inter:inter+d_inter] = k*cl(temp)\n",
    "            #Solid diffusion\n",
    "\n",
    "            #Liquid Diffusion\n",
    "            c[inter+d_inter:] = cl(temp)\n",
    "\n",
    "        inter = inter + d_inter\n",
    "\n",
    "        Scheil.append((c.copy(), inter))\n",
    "\n",
    "        if inter+jump > len(x):\n",
    "            print(\"Simulation finish\")\n",
    "            break\n",
    "    return Scheil\n"
   ]
  },
  {
   "cell_type": "code",
   "execution_count": 53,
   "metadata": {},
   "outputs": [
    {
     "name": "stderr",
     "output_type": "stream",
     "text": [
      "100%|██████████| 200000/200000 [00:09<00:00, 20981.86it/s]\n"
     ]
    }
   ],
   "source": [
    "Scheil = simulateScheil(x.copy(),c.copy())\n",
    "tf_scheil = (len(Scheil)-1)*dt"
   ]
  },
  {
   "cell_type": "code",
   "execution_count": 54,
   "metadata": {},
   "outputs": [
    {
     "name": "stderr",
     "output_type": "stream",
     "text": [
      " 41%|████      | 82170/200000 [00:06<00:09, 12449.16it/s]\n"
     ]
    },
    {
     "name": "stdout",
     "output_type": "stream",
     "text": [
      "Simulation finish\n"
     ]
    }
   ],
   "source": [
    "Lever = simulateLever(x.copy(), c.copy())\n",
    "tf_lever = (len(Lever)-1)*dt"
   ]
  },
  {
   "cell_type": "code",
   "execution_count": 55,
   "metadata": {},
   "outputs": [],
   "source": [
    "domain_length = 1\n",
    "meshsize = 100\n",
    "\n",
    "dx = domain_length/meshsize*np.ones((meshsize))\n",
    "\n",
    "x2 = np.ones((meshsize))\n",
    "x2[0] = dx[0]/2\n",
    "for i in range(1, meshsize):\n",
    "    x2[i] = x2[i-1] + dx[i-1]/2+dx[i]/2"
   ]
  },
  {
   "cell_type": "code",
   "execution_count": 56,
   "metadata": {},
   "outputs": [],
   "source": [
    "c0 = 2.1\n",
    "\n",
    "ceut = 4.2\n",
    "calpha = 2.1\n",
    "\n",
    "Tf = 1537\n",
    "Teut = 1153\n",
    "\n",
    "Tliq = (Teut-Tf)/ceut*c0 + Tf\n",
    "Tsol = (Teut-Tf)/calpha*c0+Tf\n",
    "\n",
    "kpar = calpha/ceut\n",
    "T_init_cast = Tliq\n",
    "\n",
    "c2 = c0*np.ones((meshsize))\n",
    "cinit = c2.copy()\n",
    "\n",
    "\n",
    "def cl(T, Tf=Tf, ceut=ceut, Teut=Teut):\n",
    "    return (T-Tf)*ceut/(Teut-Tf)"
   ]
  },
  {
   "cell_type": "code",
   "execution_count": 57,
   "metadata": {},
   "outputs": [
    {
     "name": "stderr",
     "output_type": "stream",
     "text": [
      " 81%|████████  | 161799/200000 [00:06<00:01, 23868.60it/s]"
     ]
    },
    {
     "name": "stdout",
     "output_type": "stream",
     "text": [
      "Simulation finish\n"
     ]
    },
    {
     "name": "stderr",
     "output_type": "stream",
     "text": [
      "\n"
     ]
    }
   ],
   "source": [
    "Scheil2 = simulateScheil(x2.copy(),c2.copy())\n",
    "tf_scheil2 = (len(Scheil2)-1)*dt"
   ]
  },
  {
   "cell_type": "code",
   "execution_count": 58,
   "metadata": {},
   "outputs": [
    {
     "name": "stderr",
     "output_type": "stream",
     "text": [
      " 35%|███▌      | 70827/200000 [00:04<00:08, 15670.13it/s]"
     ]
    },
    {
     "name": "stdout",
     "output_type": "stream",
     "text": [
      "Simulation finish\n"
     ]
    },
    {
     "name": "stderr",
     "output_type": "stream",
     "text": [
      "\n"
     ]
    }
   ],
   "source": [
    "Lever2 = simulateLever(x2.copy(), c2.copy())\n",
    "tf_lever2 = (len(Lever2)-1)*dt"
   ]
  },
  {
   "cell_type": "code",
   "execution_count": 59,
   "metadata": {},
   "outputs": [],
   "source": [
    "interface_Lever = np.zeros(len(Lever))\n",
    "for i in range(0, len(Lever)):\n",
    "    interface_Lever[i] = Lever[i][1]"
   ]
  },
  {
   "cell_type": "code",
   "execution_count": 60,
   "metadata": {},
   "outputs": [],
   "source": [
    "interface_Scheil = np.zeros(len(Scheil))\n",
    "for i in range(0,len(Scheil)):\n",
    "    interface_Scheil[i] = Scheil[i][1]"
   ]
  },
  {
   "cell_type": "code",
   "execution_count": 61,
   "metadata": {},
   "outputs": [
    {
     "name": "stdout",
     "output_type": "stream",
     "text": [
      "41085.5\n"
     ]
    },
    {
     "data": {
      "image/png": "[encoded data removed]",
      "text/plain": [
       "<Figure size 432x288 with 1 Axes>"
      ]
     },
     "metadata": {
      "needs_background": "light"
     },
     "output_type": "display_data"
    }
   ],
   "source": [
    "plt.plot(x,Lever[50000][0])\n",
    "plt.xlabel('Position')\n",
    "plt.ylabel('conc')\n",
    "print(tf_lever)\n",
    "plt.savefig('Lever prof.png',bbox_inches='tight',dpi = 400)"
   ]
  },
  {
   "cell_type": "code",
   "execution_count": 62,
   "metadata": {},
   "outputs": [
    {
     "name": "stdout",
     "output_type": "stream",
     "text": [
      "100000.0\n"
     ]
    },
    {
     "data": {
      "image/png": "[encoded data removed]",
      "text/plain": [
       "<Figure size 432x288 with 1 Axes>"
      ]
     },
     "metadata": {
      "needs_background": "light"
     },
     "output_type": "display_data"
    }
   ],
   "source": [
    "plt.plot(x,Scheil[50000][0])\n",
    "plt.xlabel('Position')\n",
    "plt.ylabel('conc')\n",
    "print(tf_scheil)\n",
    "plt.savefig('Scheil prof.png', bbox_inches='tight', dpi=400)\n"
   ]
  },
  {
   "cell_type": "code",
   "execution_count": 63,
   "metadata": {},
   "outputs": [],
   "source": [
    "lever_Loss = []\n",
    "scheil_Loss = []\n",
    "for i in range(len(Lever)):\n",
    "    loss = np.average(Lever[i][0]-c)\n",
    "    lever_Loss.append(loss)\n",
    "for i in range(len(Scheil)):\n",
    "    loss = np.average(Scheil[i][0]-c)\n",
    "    scheil_Loss.append(loss)\n",
    "t_lever = t[0:len(lever_Loss)]\n",
    "t_scheil = t[0:len(scheil_Loss)]"
   ]
  },
  {
   "cell_type": "code",
   "execution_count": 64,
   "metadata": {},
   "outputs": [],
   "source": [
    "lever_Loss2 = []\n",
    "scheil_Loss2 = []\n",
    "for i in range(len(Lever2)):\n",
    "    loss2 = np.average(Lever2[i][0]-c2)\n",
    "    lever_Loss2.append(loss2)\n",
    "for i in range(len(Scheil2)):\n",
    "    loss2 = np.average(Scheil2[i][0]-c2)\n",
    "    scheil_Loss2.append(loss2)\n",
    "t_lever2 = t[0:len(lever_Loss2)]\n",
    "t_scheil2 = t[0:len(scheil_Loss2)]"
   ]
  },
  {
   "cell_type": "code",
   "execution_count": 65,
   "metadata": {},
   "outputs": [
    {
     "data": {
      "image/png": "[encoded data removed]",
      "text/plain": [
       "<Figure size 432x288 with 1 Axes>"
      ]
     },
     "metadata": {
      "needs_background": "light"
     },
     "output_type": "display_data"
    }
   ],
   "source": [
    "plt.plot(t_lever,lever_Loss)\n",
    "# plt.plot(t_lever2,lever_Loss2)\n",
    "plt.xlabel('Time')\n",
    "plt.ylabel('conc loss')\n",
    "plt.savefig('Lever loss.png', bbox_inches='tight', dpi=400)\n"
   ]
  },
  {
   "cell_type": "code",
   "execution_count": 66,
   "metadata": {},
   "outputs": [
    {
     "data": {
      "image/png": "[encoded data removed]",
      "text/plain": [
       "<Figure size 432x288 with 1 Axes>"
      ]
     },
     "metadata": {
      "needs_background": "light"
     },
     "output_type": "display_data"
    }
   ],
   "source": [
    "plt.plot(t_scheil, scheil_Loss[:-1])\n",
    "# plt.plot(t_scheil2, scheil_Loss2)\n",
    "plt.xlabel('Time')\n",
    "plt.ylabel('conc loss')\n",
    "plt.savefig('Scheil loss.png', bbox_inches='tight', dpi=400)"
   ]
  },
  {
   "cell_type": "code",
   "execution_count": 67,
   "metadata": {},
   "outputs": [
    {
     "name": "stdout",
     "output_type": "stream",
     "text": [
      "1.685957021035104\n",
      "1.7618784066420337\n"
     ]
    }
   ],
   "source": [
    "print(np.average(Lever[50000][0]))\n",
    "print(np.average(Scheil[50000][0]))"
   ]
  }
 ],
 "metadata": {
  "interpreter": {
   "hash": "aee8b7b246df8f9039afb4144a1f6fd8d2ca17a180786b69acc140d282b71a49"
  },
  "kernelspec": {
   "display_name": "Python 3.9.1 64-bit",
   "language": "python",
   "name": "python3"
  },
  "language_info": {
   "codemirror_mode": {
    "name": "ipython",
    "version": 3
   },
   "file_extension": ".py",
   "mimetype": "text/x-python",
   "name": "python",
   "nbconvert_exporter": "python",
   "pygments_lexer": "ipython3",
   "version": "3.9.1"
  },
  "orig_nbformat": 4
 },
 "nbformat": 4,
 "nbformat_minor": 2
}
